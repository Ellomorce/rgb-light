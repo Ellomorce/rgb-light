{
 "cells": [
  {
   "cell_type": "markdown",
   "metadata": {},
   "source": [
    "# Azure\n",
    "key1\n",
    "33579d1535d046d4a3ae2655027f2445\n",
    "\n",
    "key2\n",
    "6a5103d27e3d44f19342e52a79426e17\n",
    "\n",
    "Endpoint\n",
    "https://azheopenai.openai.azure.com/\n",
    "\n",
    "model_name\n",
    "gpt-35-turbo-16k\n",
    "gpt-35-turbo-instruct\n",
    "gpt-4-32k\n",
    "text-embedding-ada-002"
   ]
  },
  {
   "cell_type": "code",
   "execution_count": null,
   "metadata": {},
   "outputs": [],
   "source": [
    "import openai"
   ]
  }
 ],
 "metadata": {
  "kernelspec": {
   "display_name": "base",
   "language": "python",
   "name": "python3"
  },
  "language_info": {
   "name": "python",
   "version": "3.10.13"
  }
 },
 "nbformat": 4,
 "nbformat_minor": 2
}
